{
  "nbformat": 4,
  "nbformat_minor": 0,
  "metadata": {
    "colab": {
      "name": "NLP_Tensorflow_Universal_Sentence_Encoding.ipynb",
      "provenance": []
    },
    "kernelspec": {
      "name": "python3",
      "display_name": "Python 3"
    }
  },
  "cells": [
    {
      "cell_type": "code",
      "metadata": {
        "id": "l_wxEaXvHhLh",
        "colab_type": "code",
        "outputId": "9030ec0c-3827-4456-dd06-6afebb52084b",
        "colab": {
          "base_uri": "https://localhost:8080/",
          "height": 187
        }
      },
      "source": [
        "import tensorflow as tf\n",
        "import tensorflow_hub as hub\n",
        "import numpy as np\n",
        "import os, sys\n",
        "from sklearn.metrics.pairwise import cosine_similarity\n",
        "\n",
        "def cos_sim(input_vectors):\n",
        "  similarity = cosine_similarity(input_vectors)\n",
        "  return similarity\n",
        "\n",
        "#module_url = \"https://tfhub.dev/google/universal-sentence-encoder/2\" #@param [\"https://tfhub.dev/google/universal-sentence-encoder/2\", \"https://tfhub.dev/google/universal-sentence-encoder-large/3\"]\n",
        "module_url = \"https://tfhub.dev/google/universal-sentence-encoder-large/3\" #@param [\"https://tfhub.dev/google/universal-sentence-encoder/2\", \"https://tfhub.dev/google/universal-sentence-encoder-large/3\"]\n",
        "embed = hub.Module(module_url)\n",
        "tf.logging.set_verbosity(tf.logging.ERROR)\n",
        "\n",
        "def get_top_similar(sentence, sentence_list, similarity_matrix, topN):\n",
        "    # find the index of sentence in list\n",
        "    index = sentence_list.index(sentence)\n",
        "    # get the corresponding row in similarity matrix\n",
        "    similarity_row = np.array(similarity_matrix[index, :])\n",
        "    # get the indices of top similar\n",
        "    indices = similarity_row.argsort()[-topN:][::-1]\n",
        "    return [sentence_list[i] for i in indices]\n",
        " \n",
        "sentences_list = [\"Online learning has become more popular than ever.\",\n",
        "                  \"Traditional classrooms offer interactive opportunities.\",\n",
        "                  \"Homework is essential for a deep understanding of the subject.\", \n",
        "                  \"Group projects can enhance teamwork skills.\"]\n",
        "sentence = \"Online learning has become more popular than ever\"\n",
        "\n",
        "with tf.Session() as session:\n",
        "\n",
        "  session.run([tf.global_variables_initializer(), tf.tables_initializer()])\n",
        "  sentences_embeddings = session.run(embed(sentences_list))\n",
        "  print(sentences_embeddings)\n",
        "\n",
        "similarity_matrix = cos_sim(np.array(sentences_embeddings))\n",
        "\n",
        "top_similar = get_top_similar(sentence, sentences_list, similarity_matrix, 2)\n",
        "\n",
        "# printing the list using loop \n",
        "for x in range(len(top_similar)): \n",
        "    print(top_similar[x])\n"
      ],
      "execution_count": 0,
      "outputs": [
        {
          "output_type": "stream",
          "text": [
            "[[ 0.00247341  0.00616061 -0.03455995 ...  0.00584304 -0.02462879\n",
            "   0.03910148]\n",
            " [ 0.00949622 -0.01605432  0.01281871 ... -0.03027046 -0.01071191\n",
            "   0.05001802]\n",
            " [ 0.01479136  0.01023176  0.06851745 ... -0.00736596 -0.03810844\n",
            "  -0.07498173]\n",
            " [-0.07724696  0.01317691  0.00419939 ... -0.02642277 -0.06178023\n",
            "  -0.10883692]]\n",
            "People love traveling in winter\n",
            "Traveling is good for health\n"
          ],
          "name": "stdout"
        }
      ]
    }
  ]
}
